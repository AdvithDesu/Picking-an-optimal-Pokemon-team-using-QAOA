{
 "cells": [
  {
   "cell_type": "code",
   "execution_count": 1,
   "id": "c56c6110",
   "metadata": {},
   "outputs": [],
   "source": [
    "import numpy as np\n",
    "import copy\n",
    "from qiskit.circuit import Parameter\n",
    "from qiskit import QuantumCircuit, Aer, execute, BasicAer\n",
    "from qiskit.utils import QuantumInstance\n",
    "from qiskit.algorithms import QAOA, NumPyMinimumEigensolver\n",
    "from qiskit.utils.algorithm_globals import algorithm_globals\n",
    "from qiskit_optimization.algorithms import MinimumEigenOptimizer, CplexOptimizer\n",
    "from qiskit_optimization import QuadraticProgram\n",
    "from qiskit_optimization.problems.variable import VarType\n",
    "from qiskit_optimization.converters.quadratic_program_to_qubo import QuadraticProgramToQubo\n",
    "from qiskit_optimization.translators import from_docplex_mp\n",
    "from qiskit_optimization import QuadraticProgram\n",
    "from qiskit_optimization.translators import from_docplex_mp\n",
    "from docplex.mp.model import Model\n",
    "\n",
    "from qiskit.primitives import Estimator, BackendEstimator\n",
    "\n",
    "pi = np.pi"
   ]
  },
  {
   "cell_type": "code",
   "execution_count": 2,
   "id": "05d3c25a",
   "metadata": {},
   "outputs": [],
   "source": [
    "def relax_problem(problem) -> QuadraticProgram:\n",
    "    \"\"\"Change all variables to continuous.\"\"\"\n",
    "    relaxed_problem = copy.deepcopy(problem)\n",
    "    for variable in relaxed_problem.variables:\n",
    "        variable.vartype = VarType.CONTINUOUS\n",
    "\n",
    "    return relaxed_problem"
   ]
  },
  {
   "cell_type": "code",
   "execution_count": 3,
   "id": "cead77a0",
   "metadata": {},
   "outputs": [],
   "source": [
    "type_chart = np.array([[1, 1, 1, 1, 1, 1, 1, 1, 1, 1, 1, 1, 0.5, 0, 1],\n",
    "                  [1, 0.5, 0.5, 1, 2, 2, 1, 1, 1, 1, 1, 2, 0.5, 1, 0.5], \n",
    "                  [1, 2, 0.5, 1, 0.5, 1, 1, 1, 2, 1, 1, 1, 2, 1, 0.5], \n",
    "                  [1, 1, 2, 0.5, 0.5, 1, 1, 1, 0, 2, 1, 1, 1, 1, 0.5], \n",
    "                  [1, 0.5, 2, 1, 0.5, 1, 1, 0.5, 2, 0.5, 1, 0.5, 2, 1, 0.5], \n",
    "                  [1, 1, 0.5, 1, 2, 0.5, 1, 1, 2, 2, 1, 1, 1, 1, 2], \n",
    "                  [2, 1, 1, 1, 1, 2, 1, 0.5, 1, 0.5, 0.5, 0.5, 2, 0, 1], \n",
    "                  [1, 1, 1, 1, 2, 1, 1, 0.5, 0.5, 1, 1, 2, 0.5, 0.5, 1], \n",
    "                  [1, 2, 1, 2, 0.5, 1, 1, 2, 1, 0, 1, 0.5, 2, 1, 1], \n",
    "                  [1, 1, 1, 0.5, 2, 1, 2, 1, 1, 1, 1, 2, 0.5, 1, 1], \n",
    "                  [1, 1, 1, 1, 1, 1, 2, 2, 1, 1, 0.5, 1, 1, 1, 1], \n",
    "                  [1, 0.5, 1, 1, 2, 1, 0.5, 2, 1, 0.5, 2, 1, 1, 0.5, 1], \n",
    "                  [1, 2, 1, 1, 1, 2, 0.5, 1, 0.5, 2, 1, 2, 1, 1, 1], \n",
    "                  [0, 1, 1, 1, 1, 1, 1, 1, 1, 1, 0, 1, 1, 2, 1], \n",
    "                  [1, 1, 1, 1, 1, 1, 1, 1, 1, 1, 1, 1, 1, 1, 2]])\n",
    "\n",
    "n = len(type_chart)"
   ]
  },
  {
   "cell_type": "code",
   "execution_count": 4,
   "id": "858bc1f1",
   "metadata": {},
   "outputs": [],
   "source": [
    "attack = []\n",
    "for i in range(n):\n",
    "    attack.append([0 if j < 2 else 1 for j in type_chart[i]])\n",
    "attacknp = np.array(attack)"
   ]
  },
  {
   "cell_type": "code",
   "execution_count": 5,
   "id": "09002126",
   "metadata": {},
   "outputs": [],
   "source": [
    "defence = []\n",
    "for i in range(n):\n",
    "    defence.append([1 if (j == 0.5 or j == 0) else 0 for j in type_chart[i]])\n",
    "defencenp = (np.array(defence)).T"
   ]
  },
  {
   "cell_type": "code",
   "execution_count": 71,
   "id": "136bb5fd",
   "metadata": {},
   "outputs": [],
   "source": [
    "mdl = Model(\"docplex model\")\n",
    "\n",
    "all_types = [\"normal\", \"fire\", \"water\", \"electric\", \"grass\", \"ice\", \"fighting\", \"poison\", \"ground\", \"flying\", \"psychic\", \"bug\", \"rock\", \"ghost\", \"dragon\"]\n",
    "\n",
    "pokemon_types = np.array([mdl.binary_var(i) for i in all_types]).T"
   ]
  },
  {
   "cell_type": "code",
   "execution_count": 72,
   "id": "e957d155",
   "metadata": {},
   "outputs": [
    {
     "name": "stdout",
     "output_type": "stream",
     "text": [
      "[2, 1, -1, 2, 4, 0, 3, 2, -1, -3, -4, 2, -2, -2, -3]\n"
     ]
    }
   ],
   "source": [
    "weights = [0 for i in range(n)]\n",
    "\n",
    "for i in range(n):\n",
    "    attack_score = sum([(-1 if type_chart[i][j] == 2 else 1 if type_chart[i][j] == 0.5 else 2 if type_chart[i][j] == 0 else 0) for j in range(n)])\n",
    "    defence_score = sum([(-1 if (type_chart.T)[i][j] == 2 else 1 if (type_chart.T)[i][j] == 0.5 else 2 if (type_chart.T)[i][j] == 0 else 0) for j in range(n)])\n",
    "    weights[i] = (attack_score - defence_score)\n",
    "    \n",
    "print(weights)"
   ]
  },
  {
   "cell_type": "code",
   "execution_count": 73,
   "id": "4f77d052",
   "metadata": {},
   "outputs": [
    {
     "data": {
      "text/plain": [
       "docplex.mp.LinearConstraint[total_number](normal+fire+water+electric+grass+ice+fighting+poison+ground+flying+psychic+bug+rock+ghost+dragon,EQ,6)"
      ]
     },
     "execution_count": 73,
     "metadata": {},
     "output_type": "execute_result"
    }
   ],
   "source": [
    "mdl.minimize(\n",
    "    np.dot(np.array(weights), pokemon_types) + \\\n",
    "    sum(np.dot(attacknp, pokemon_types)) - \\\n",
    "    sum(np.dot(defencenp, pokemon_types))\n",
    ")\n",
    "\n",
    "mdl.add_constraint(6 == sum(pokemon_types), \"total_number\")\n",
    "\n",
    "# mdl.add_constraint(sum(np.dot(attacknp, pokemon_types)) <= 12, f\"attack\")\n",
    "\n",
    "# for i in range(n):\n",
    "#     mdl.add_constraint(np.dot(attacknp[i], pokemon_types) <= 2, f\"attack_{all_types[i]}\")\n",
    "\n",
    "# for i in range(n):\n",
    "#     mdl.add_constraint(np.dot(defencenp[i], pokemon_types) >= 1, f\"defence_{all_types[i]}\")\n",
    "\n",
    "# mdl.remove_constraint(\"attack_normal\")"
   ]
  },
  {
   "cell_type": "code",
   "execution_count": 74,
   "id": "d43d41f9",
   "metadata": {},
   "outputs": [
    {
     "name": "stdout",
     "output_type": "stream",
     "text": [
      "Problem name: docplex model\n",
      "\n",
      "Minimize\n",
      "  23*bug^2 + 46*bug*dragon + 46*bug*ghost + 46*bug*rock + 23*dragon^2\n",
      "  + 46*electric*bug + 46*electric*dragon + 23*electric^2 + 46*electric*fighting\n",
      "  + 46*electric*flying + 46*electric*ghost + 46*electric*grass\n",
      "  + 46*electric*ground + 46*electric*ice + 46*electric*poison\n",
      "  + 46*electric*psychic + 46*electric*rock + 46*fighting*bug\n",
      "  + 46*fighting*dragon + 23*fighting^2 + 46*fighting*flying + 46*fighting*ghost\n",
      "  + 46*fighting*ground + 46*fighting*poison + 46*fighting*psychic\n",
      "  + 46*fighting*rock + 46*fire*bug + 46*fire*dragon + 46*fire*electric\n",
      "  + 46*fire*fighting + 23*fire^2 + 46*fire*flying + 46*fire*ghost\n",
      "  + 46*fire*grass + 46*fire*ground + 46*fire*ice + 46*fire*poison\n",
      "  + 46*fire*psychic + 46*fire*rock + 46*fire*water + 46*flying*bug\n",
      "  + 46*flying*dragon + 23*flying^2 + 46*flying*ghost + 46*flying*psychic\n",
      "  + 46*flying*rock + 46*ghost*dragon + 23*ghost^2 + 46*grass*bug\n",
      "  + 46*grass*dragon + 46*grass*fighting + 46*grass*flying + 46*grass*ghost\n",
      "  + 23*grass^2 + 46*grass*ground + 46*grass*ice + 46*grass*poison\n",
      "  + 46*grass*psychic + 46*grass*rock + 46*ground*bug + 46*ground*dragon\n",
      "  + 46*ground*flying + 46*ground*ghost + 23*ground^2 + 46*ground*psychic\n",
      "  + 46*ground*rock + 46*ice*bug + 46*ice*dragon + 46*ice*fighting\n",
      "  + 46*ice*flying + 46*ice*ghost + 46*ice*ground + 23*ice^2 + 46*ice*poison\n",
      "  + 46*ice*psychic + 46*ice*rock + 46*normal*bug + 46*normal*dragon\n",
      "  + 46*normal*electric + 46*normal*fighting + 46*normal*fire + 46*normal*flying\n",
      "  + 46*normal*ghost + 46*normal*grass + 46*normal*ground + 46*normal*ice\n",
      "  + 23*normal^2 + 46*normal*poison + 46*normal*psychic + 46*normal*rock\n",
      "  + 46*normal*water + 46*poison*bug + 46*poison*dragon + 46*poison*flying\n",
      "  + 46*poison*ghost + 46*poison*ground + 23*poison^2 + 46*poison*psychic\n",
      "  + 46*poison*rock + 46*psychic*bug + 46*psychic*dragon + 46*psychic*ghost\n",
      "  + 23*psychic^2 + 46*psychic*rock + 46*rock*dragon + 46*rock*ghost + 23*rock^2\n",
      "  + 46*water*bug + 46*water*dragon + 46*water*electric + 46*water*fighting\n",
      "  + 46*water*flying + 46*water*ghost + 46*water*grass + 46*water*ground\n",
      "  + 46*water*ice + 46*water*poison + 46*water*psychic + 46*water*rock\n",
      "  + 23*water^2 - 274*bug - 277*dragon - 277*electric - 276*fighting - 276*fire\n",
      "  - 278*flying - 279*ghost - 273*grass - 277*ground - 275*ice - 275*normal\n",
      "  - 275*poison - 280*psychic - 276*rock - 278*water + 828\n",
      "\n",
      "Subject to\n",
      "  No constraints\n",
      "\n",
      "  Continuous variables (15)\n",
      "    0 <= normal <= 1\n",
      "    0 <= fire <= 1\n",
      "    0 <= water <= 1\n",
      "    0 <= electric <= 1\n",
      "    0 <= grass <= 1\n",
      "    0 <= ice <= 1\n",
      "    0 <= fighting <= 1\n",
      "    0 <= poison <= 1\n",
      "    0 <= ground <= 1\n",
      "    0 <= flying <= 1\n",
      "    0 <= psychic <= 1\n",
      "    0 <= bug <= 1\n",
      "    0 <= rock <= 1\n",
      "    0 <= ghost <= 1\n",
      "    0 <= dragon <= 1\n",
      "\n"
     ]
    }
   ],
   "source": [
    "qp_mdl = from_docplex_mp(mdl)\n",
    "conv = QuadraticProgramToQubo()\n",
    "qubo = conv.convert(qp_mdl)\n",
    "\n",
    "qp = relax_problem(qubo)\n",
    "print(qp.prettyprint())"
   ]
  },
  {
   "cell_type": "code",
   "execution_count": 75,
   "id": "beb7538d",
   "metadata": {},
   "outputs": [
    {
     "name": "stdout",
     "output_type": "stream",
     "text": [
      "[0, 9.732121432422281e-08, 1.0, 1.0, 2.4330279913542623e-08, 0, 0, 4.8660592443712006e-08, 1.0, 0.999999902679156, 0.9999999675596662, 3.2440369240636243e-08, 0, 0.999999951339538, 0.02173910498774001]\n"
     ]
    }
   ],
   "source": [
    "sol = CplexOptimizer().solve(qp)\n",
    "c_stars = sol.samples[0].x\n",
    "print(c_stars)"
   ]
  },
  {
   "cell_type": "code",
   "execution_count": 76,
   "id": "5c191f6c",
   "metadata": {},
   "outputs": [
    {
     "data": {
      "image/png": "[encoded data removed]",
      "text/plain": [
       "<Figure size 159.923x927.08 with 1 Axes>"
      ]
     },
     "execution_count": 76,
     "metadata": {},
     "output_type": "execute_result"
    }
   ],
   "source": [
    "thetas = [2 * np.arcsin(np.sqrt(c_star)) for c_star in c_stars]\n",
    "\n",
    "init_qc = QuantumCircuit(n)\n",
    "for idx, theta in enumerate(thetas):\n",
    "    init_qc.ry(theta, idx)\n",
    "\n",
    "init_qc.draw(output=\"mpl\")"
   ]
  },
  {
   "cell_type": "code",
   "execution_count": 77,
   "id": "12e93a0c",
   "metadata": {},
   "outputs": [
    {
     "data": {
      "image/png": "[encoded data removed]",
      "text/plain": [
       "<Figure size 340.523x927.08 with 1 Axes>"
      ]
     },
     "execution_count": 77,
     "metadata": {},
     "output_type": "execute_result"
    }
   ],
   "source": [
    "beta = Parameter(\"β\")\n",
    "\n",
    "ws_mixer = QuantumCircuit(n)\n",
    "for idx, theta in enumerate(thetas):\n",
    "    ws_mixer.ry(-theta, idx)\n",
    "    ws_mixer.rz(-2 * beta, idx)\n",
    "    ws_mixer.ry(theta, idx)\n",
    "\n",
    "ws_mixer.draw(output=\"mpl\")"
   ]
  },
  {
   "cell_type": "code",
   "execution_count": 78,
   "id": "e519fff3",
   "metadata": {},
   "outputs": [],
   "source": [
    "algorithm_globals.random_seed = 12345\n",
    "quantum_instance = QuantumInstance(\n",
    "    BasicAer.get_backend(\"qasm_simulator\"),\n",
    "    seed_simulator=algorithm_globals.random_seed,\n",
    "    seed_transpiler=algorithm_globals.random_seed,\n",
    ")"
   ]
  },
  {
   "cell_type": "code",
   "execution_count": 79,
   "id": "44e6c633",
   "metadata": {},
   "outputs": [
    {
     "name": "stdout",
     "output_type": "stream",
     "text": [
      "objective function value: -13.0\n",
      "variable values: normal=0.0, fire=0.0, water=1.0, electric=1.0, grass=0.0, ice=0.0, fighting=0.0, poison=0.0, ground=1.0, flying=1.0, psychic=1.0, bug=0.0, rock=0.0, ghost=1.0, dragon=0.0\n",
      "status: SUCCESS\n",
      "objective function value: -13.0\n",
      "variable values: normal=0.0, fire=0.0, water=1.0, electric=1.0, grass=0.0, ice=0.0, fighting=0.0, poison=0.0, ground=1.0, flying=1.0, psychic=1.0, bug=0.0, rock=0.0, ghost=1.0, dragon=0.0\n",
      "status: SUCCESS\n"
     ]
    }
   ],
   "source": [
    "ws_qaoa_mes = QAOA(\n",
    "    quantum_instance=quantum_instance,\n",
    "    initial_state=init_qc,\n",
    "    mixer=ws_mixer,\n",
    ")\n",
    "\n",
    "ws_qaoa = MinimumEigenOptimizer(ws_qaoa_mes)\n",
    "\n",
    "ws_qaoa_result = ws_qaoa.solve(qp_mdl)\n",
    "print(ws_qaoa_result.prettyprint())\n",
    "\n",
    "result = CplexOptimizer().solve(qubo)\n",
    "print(result.prettyprint())"
   ]
  },
  {
   "cell_type": "code",
   "execution_count": null,
   "id": "5e0d1e86",
   "metadata": {},
   "outputs": [],
   "source": []
  }
 ],
 "metadata": {
  "kernelspec": {
   "display_name": "Python 3 (ipykernel)",
   "language": "python",
   "name": "python3"
  },
  "language_info": {
   "codemirror_mode": {
    "name": "ipython",
    "version": 3
   },
   "file_extension": ".py",
   "mimetype": "text/x-python",
   "name": "python",
   "nbconvert_exporter": "python",
   "pygments_lexer": "ipython3",
   "version": "3.9.7"
  },
  "toc": {
   "base_numbering": 1,
   "nav_menu": {},
   "number_sections": true,
   "sideBar": true,
   "skip_h1_title": false,
   "title_cell": "Table of Contents",
   "title_sidebar": "Contents",
   "toc_cell": false,
   "toc_position": {},
   "toc_section_display": true,
   "toc_window_display": false
  }
 },
 "nbformat": 4,
 "nbformat_minor": 5
}
